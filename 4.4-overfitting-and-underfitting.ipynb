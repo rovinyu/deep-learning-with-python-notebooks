{
 "cells": [
  {
   "cell_type": "code",
   "execution_count": 1,
   "metadata": {},
   "outputs": [
    {
     "data": {
      "text/plain": [
       "'2.2.4-tf'"
      ]
     },
     "execution_count": 1,
     "metadata": {},
     "output_type": "execute_result"
    }
   ],
   "source": [
    "import tensorflow.keras\n",
    "tensorflow.keras.__version__"
   ]
  },
  {
   "cell_type": "markdown",
   "metadata": {},
   "source": [
    "# Overfitting and underfitting\n",
    "\n",
    "This notebook contains the code samples found in Chapter 3, Section 6 of [Deep Learning with Python](https://www.manning.com/books/deep-learning-with-python?a_aid=keras&a_bid=76564dff). Note that the original text features far more content, in particular further explanations and figures: in this notebook, you will only find source code and related comments.\n",
    "\n",
    "----\n",
    "\n",
    "\n",
    "In all the examples we saw in the previous chapter -- movie review sentiment prediction, topic classification, and house price regression -- \n",
    "we could notice that the performance of our model on the held-out validation data would always peak after a few epochs and would then start \n",
    "degrading, i.e. our model would quickly start to _overfit_ to the training data. Overfitting happens in every single machine learning \n",
    "problem. Learning how to deal with overfitting is essential to mastering machine learning.\n",
    "\n",
    "The fundamental issue in machine learning is the tension between optimization and generalization. \"Optimization\" refers to the process of \n",
    "adjusting a model to get the best performance possible on the training data (the \"learning\" in \"machine learning\"), while \"generalization\" \n",
    "refers to how well the trained model would perform on data it has never seen before. The goal of the game is to get good generalization, of \n",
    "course, but you do not control generalization; you can only adjust the model based on its training data.\n",
    "\n",
    "At the beginning of training, optimization and generalization are correlated: the lower your loss on training data, the lower your loss on \n",
    "test data. While this is happening, your model is said to be _under-fit_: there is still progress to be made; the network hasn't yet \n",
    "modeled all relevant patterns in the training data. But after a certain number of iterations on the training data, generalization stops \n",
    "improving, validation metrics stall then start degrading: the model is then starting to over-fit, i.e. is it starting to learn patterns \n",
    "that are specific to the training data but that are misleading or irrelevant when it comes to new data.\n",
    "\n",
    "To prevent a model from learning misleading or irrelevant patterns found in the training data, _the best solution is of course to get \n",
    "more training data_. A model trained on more data will naturally generalize better. When that is no longer possible, the next best solution \n",
    "is to modulate the quantity of information that your model is allowed to store, or to add constraints on what information it is allowed to \n",
    "store. If a network can only afford to memorize a small number of patterns, the optimization process will force it to focus on the most \n",
    "prominent patterns, which have a better chance of generalizing well.\n",
    "\n",
    "The processing of fighting overfitting in this way is called _regularization_. Let's review some of the most common regularization \n",
    "techniques, and let's apply them in practice to improve our movie classification model from  the previous chapter."
   ]
  },
  {
   "cell_type": "markdown",
   "metadata": {},
   "source": [
    "Note: in this notebook we will be using the IMDB test set as our validation set. It doesn't matter in this context.\n",
    "\n",
    "Let's prepare the data using the code from Chapter 3, Section 5:"
   ]
  },
  {
   "cell_type": "code",
   "execution_count": 5,
   "metadata": {},
   "outputs": [],
   "source": [
    "from tensorflow.keras.datasets import imdb\n",
    "import numpy as np\n",
    "\n",
    "(train_data, train_labels), (test_data, test_labels) = imdb.load_data(num_words=10000)\n",
    "\n",
    "def vectorize_sequences(sequences, dimension=10000):\n",
    "    # Create an all-zero matrix of shape (len(sequences), dimension)\n",
    "    results = np.zeros((len(sequences), dimension))\n",
    "    for i, sequence in enumerate(sequences):\n",
    "        results[i, sequence] = 1.  # set specific indices of results[i] to 1s\n",
    "    return results\n",
    "\n",
    "# Our vectorized training data\n",
    "x_train = vectorize_sequences(train_data)\n",
    "# Our vectorized test data\n",
    "x_test = vectorize_sequences(test_data)\n",
    "# Our vectorized labels\n",
    "y_train = np.asarray(train_labels).astype('float32')\n",
    "y_test = np.asarray(test_labels).astype('float32')"
   ]
  },
  {
   "cell_type": "markdown",
   "metadata": {},
   "source": [
    "# Fighting overfitting\n",
    "\n",
    "## Reducing the network's size\n",
    "\n",
    "\n",
    "The simplest way to prevent overfitting is to reduce the size of the model, i.e. the number of learnable parameters in the model (which is \n",
    "determined by the number of layers and the number of units per layer). In deep learning, the number of learnable parameters in a model is \n",
    "often referred to as the model's \"capacity\". Intuitively, a model with more parameters will have more \"memorization capacity\" and therefore \n",
    "will be able to easily learn a perfect dictionary-like mapping between training samples and their targets, a mapping without any \n",
    "generalization power. For instance, a model with 500,000 binary parameters could easily be made to learn the class of every digits in the \n",
    "MNIST training set: we would only need 10 binary parameters for each of the 50,000 digits. Such a model would be useless for classifying \n",
    "new digit samples. Always keep this in mind: deep learning models tend to be good at fitting to the training data, but the real challenge \n",
    "is generalization, not fitting.\n",
    "\n",
    "On the other hand, if the network has limited memorization resources, it will not be able to learn this mapping as easily, and thus, in \n",
    "order to minimize its loss, it will have to resort to learning compressed representations that have predictive power regarding the targets \n",
    "-- precisely the type of representations that we are interested in. At the same time, keep in mind that you should be using models that have \n",
    "enough parameters that they won't be underfitting: your model shouldn't be starved for memorization resources. There is a compromise to be \n",
    "found between \"too much capacity\" and \"not enough capacity\".\n",
    "\n",
    "Unfortunately, there is no magical formula to determine what the right number of layers is, or what the right size for each layer is. You \n",
    "will have to evaluate an array of different architectures (on your validation set, not on your test set, of course) in order to find the \n",
    "right model size for your data. The general workflow to find an appropriate model size is to start with relatively few layers and \n",
    "parameters, and start increasing the size of the layers or adding new layers until you see diminishing returns with regard to the \n",
    "validation loss.\n",
    "\n",
    "Let's try this on our movie review classification network. Our original network was as such:"
   ]
  },
  {
   "cell_type": "code",
   "execution_count": 6,
   "metadata": {},
   "outputs": [],
   "source": [
    "from tensorflow.keras import models\n",
    "from tensorflow.keras import layers\n",
    "\n",
    "original_model = models.Sequential()\n",
    "original_model.add(layers.Dense(16, activation='relu', input_shape=(10000,)))\n",
    "original_model.add(layers.Dense(16, activation='relu'))\n",
    "original_model.add(layers.Dense(1, activation='sigmoid'))\n",
    "\n",
    "original_model.compile(optimizer='rmsprop',\n",
    "                       loss='binary_crossentropy',\n",
    "                       metrics=['acc'])"
   ]
  },
  {
   "cell_type": "markdown",
   "metadata": {},
   "source": [
    "Now let's try to replace it with this smaller network:"
   ]
  },
  {
   "cell_type": "code",
   "execution_count": 7,
   "metadata": {},
   "outputs": [],
   "source": [
    "smaller_model = models.Sequential()\n",
    "smaller_model.add(layers.Dense(4, activation='relu', input_shape=(10000,)))\n",
    "smaller_model.add(layers.Dense(4, activation='relu'))\n",
    "smaller_model.add(layers.Dense(1, activation='sigmoid'))\n",
    "\n",
    "smaller_model.compile(optimizer='rmsprop',\n",
    "                      loss='binary_crossentropy',\n",
    "                      metrics=['acc'])"
   ]
  },
  {
   "cell_type": "markdown",
   "metadata": {},
   "source": [
    "\n",
    "Here's a comparison of the validation losses of the original network and the smaller network. The dots are the validation loss values of \n",
    "the smaller network, and the crosses are the initial network (remember: a lower validation loss signals a better model)."
   ]
  },
  {
   "cell_type": "code",
   "execution_count": 8,
   "metadata": {},
   "outputs": [
    {
     "name": "stdout",
     "output_type": "stream",
     "text": [
      "Train on 25000 samples, validate on 25000 samples\n",
      "Epoch 1/20\n",
      "25000/25000 [==============================] - ETA: 0s - loss: 0.4696 - acc: 0.820 - 24s 958us/sample - loss: 0.4674 - acc: 0.8214 - val_loss: 0.3615 - val_acc: 0.8696\n",
      "Epoch 2/20\n",
      "25000/25000 [==============================] - 18s 725us/sample - loss: 0.2718 - acc: 0.9059 - val_loss: 0.2925 - val_acc: 0.8858\n",
      "Epoch 3/20\n",
      "25000/25000 [==============================] - 26s 1ms/sample - loss: 0.2074 - acc: 0.9274 - val_loss: 0.3083 - val_acc: 0.8748\n",
      "Epoch 4/20\n",
      "25000/25000 [==============================] - 5s 210us/sample - loss: 0.1723 - acc: 0.9388 - val_loss: 0.3077 - val_acc: 0.8773\n",
      "Epoch 5/20\n",
      "25000/25000 [==============================] - 5s 202us/sample - loss: 0.1473 - acc: 0.9493 - val_loss: 0.3303 - val_acc: 0.8739\n",
      "Epoch 6/20\n",
      "25000/25000 [==============================] - 5s 199us/sample - loss: 0.1262 - acc: 0.9579 - val_loss: 0.3292 - val_acc: 0.8772\n",
      "Epoch 7/20\n",
      "25000/25000 [==============================] - 5s 205us/sample - loss: 0.1106 - acc: 0.9628 - val_loss: 0.3458 - val_acc: 0.8750\n",
      "Epoch 8/20\n",
      "25000/25000 [==============================] - 5s 208us/sample - loss: 0.0942 - acc: 0.9704 - val_loss: 0.3953 - val_acc: 0.8644\n",
      "Epoch 9/20\n",
      "25000/25000 [==============================] - 6s 231us/sample - loss: 0.0823 - acc: 0.9743 - val_loss: 0.3969 - val_acc: 0.8691\n",
      "Epoch 10/20\n",
      "25000/25000 [==============================] - 5s 213us/sample - loss: 0.0708 - acc: 0.9784 - val_loss: 0.4267 - val_acc: 0.8674\n",
      "Epoch 11/20\n",
      "25000/25000 [==============================] - 5s 218us/sample - loss: 0.0622 - acc: 0.9808 - val_loss: 0.4644 - val_acc: 0.8616.061\n",
      "Epoch 12/20\n",
      "25000/25000 [==============================] - 6s 226us/sample - loss: 0.0506 - acc: 0.9862 - val_loss: 0.4845 - val_acc: 0.8614\n",
      "Epoch 13/20\n",
      "25000/25000 [==============================] - 6s 227us/sample - loss: 0.0457 - acc: 0.9866 - val_loss: 0.5298 - val_acc: 0.8564\n",
      "Epoch 14/20\n",
      "25000/25000 [==============================] - 6s 243us/sample - loss: 0.0386 - acc: 0.9900 - val_loss: 0.5540 - val_acc: 0.8560\n",
      "Epoch 15/20\n",
      "25000/25000 [==============================] - 6s 224us/sample - loss: 0.0309 - acc: 0.9927 - val_loss: 0.5850 - val_acc: 0.8545\n",
      "Epoch 16/20\n",
      "25000/25000 [==============================] - 6s 235us/sample - loss: 0.0268 - acc: 0.9936 - val_loss: 0.6090 - val_acc: 0.8566\n",
      "Epoch 17/20\n",
      "25000/25000 [==============================] - 6s 226us/sample - loss: 0.0214 - acc: 0.9948 - val_loss: 0.6447 - val_acc: 0.8533\n",
      "Epoch 18/20\n",
      "25000/25000 [==============================] - 5s 211us/sample - loss: 0.0172 - acc: 0.9961 - val_loss: 0.6876 - val_acc: 0.8509\n",
      "Epoch 19/20\n",
      "25000/25000 [==============================] - 5s 211us/sample - loss: 0.0126 - acc: 0.9978 - val_loss: 0.7273 - val_acc: 0.8518\n",
      "Epoch 20/20\n",
      "25000/25000 [==============================] - 5s 213us/sample - loss: 0.0113 - acc: 0.9974 - val_loss: 0.7716 - val_acc: 0.8502\n"
     ]
    }
   ],
   "source": [
    "original_hist = original_model.fit(x_train, y_train,\n",
    "                                   epochs=20,\n",
    "                                   batch_size=512,\n",
    "                                   validation_data=(x_test, y_test))"
   ]
  },
  {
   "cell_type": "code",
   "execution_count": 9,
   "metadata": {},
   "outputs": [
    {
     "name": "stdout",
     "output_type": "stream",
     "text": [
      "Train on 25000 samples, validate on 25000 samples\n",
      "Epoch 1/20\n",
      "25000/25000 [==============================] - 7s 297us/sample - loss: 0.5957 - acc: 0.6534 - val_loss: 0.5504 - val_acc: 0.6938\n",
      "Epoch 2/20\n",
      "25000/25000 [==============================] - 5s 202us/sample - loss: 0.4945 - acc: 0.8306 - val_loss: 0.4880 - val_acc: 0.8517\n",
      "Epoch 3/20\n",
      "25000/25000 [==============================] - 5s 205us/sample - loss: 0.4393 - acc: 0.8920 - val_loss: 0.4559 - val_acc: 0.8548\n",
      "Epoch 4/20\n",
      "25000/25000 [==============================] - 5s 215us/sample - loss: 0.3897 - acc: 0.9188 - val_loss: 0.4136 - val_acc: 0.8834\n",
      "Epoch 5/20\n",
      "25000/25000 [==============================] - 5s 211us/sample - loss: 0.3294 - acc: 0.9353 - val_loss: 0.3634 - val_acc: 0.8847\n",
      "Epoch 6/20\n",
      "25000/25000 [==============================] - 5s 214us/sample - loss: 0.2576 - acc: 0.9441 - val_loss: 0.3270 - val_acc: 0.8812\n",
      "Epoch 7/20\n",
      "25000/25000 [==============================] - 5s 210us/sample - loss: 0.2038 - acc: 0.9501 - val_loss: 0.3085 - val_acc: 0.8810\n",
      "Epoch 8/20\n",
      "25000/25000 [==============================] - 5s 212us/sample - loss: 0.1731 - acc: 0.9541 - val_loss: 0.2963 - val_acc: 0.8843\n",
      "Epoch 9/20\n",
      "25000/25000 [==============================] - 6s 221us/sample - loss: 0.1536 - acc: 0.9570 - val_loss: 0.3026 - val_acc: 0.8815\n",
      "Epoch 10/20\n",
      "25000/25000 [==============================] - 5s 210us/sample - loss: 0.1395 - acc: 0.9596 - val_loss: 0.3111 - val_acc: 0.8784\n",
      "Epoch 11/20\n",
      "25000/25000 [==============================] - 5s 215us/sample - loss: 0.1284 - acc: 0.9636 - val_loss: 0.3200 - val_acc: 0.8774\n",
      "Epoch 12/20\n",
      "25000/25000 [==============================] - 5s 219us/sample - loss: 0.1182 - acc: 0.9657 - val_loss: 0.3435 - val_acc: 0.8732\n",
      "Epoch 13/20\n",
      "25000/25000 [==============================] - 6s 234us/sample - loss: 0.1090 - acc: 0.9692 - val_loss: 0.3478 - val_acc: 0.8728\n",
      "Epoch 14/20\n",
      "25000/25000 [==============================] - 6s 243us/sample - loss: 0.1002 - acc: 0.9728 - val_loss: 0.3554 - val_acc: 0.8720\n",
      "Epoch 15/20\n",
      "25000/25000 [==============================] - 6s 248us/sample - loss: 0.0927 - acc: 0.9749 - val_loss: 0.3675 - val_acc: 0.8696\n",
      "Epoch 16/20\n",
      "25000/25000 [==============================] - 6s 227us/sample - loss: 0.0851 - acc: 0.9778 - val_loss: 0.3834 - val_acc: 0.8682\n",
      "Epoch 17/20\n",
      "25000/25000 [==============================] - 6s 222us/sample - loss: 0.0782 - acc: 0.9797 - val_loss: 0.4010 - val_acc: 0.8653\n",
      "Epoch 18/20\n",
      "25000/25000 [==============================] - 6s 238us/sample - loss: 0.0717 - acc: 0.9822 - val_loss: 0.4186 - val_acc: 0.8640\n",
      "Epoch 19/20\n",
      "25000/25000 [==============================] - 7s 270us/sample - loss: 0.0658 - acc: 0.9832 - val_loss: 0.4341 - val_acc: 0.8622\n",
      "Epoch 20/20\n",
      "25000/25000 [==============================] - 6s 235us/sample - loss: 0.0590 - acc: 0.9864 - val_loss: 0.4434 - val_acc: 0.8634\n"
     ]
    }
   ],
   "source": [
    "smaller_model_hist = smaller_model.fit(x_train, y_train,\n",
    "                                       epochs=20,\n",
    "                                       batch_size=512,\n",
    "                                       validation_data=(x_test, y_test))"
   ]
  },
  {
   "cell_type": "code",
   "execution_count": 11,
   "metadata": {},
   "outputs": [],
   "source": [
    "epochs = range(1, 21)\n",
    "original_val_loss = original_hist.history['val_loss']\n",
    "smaller_model_val_loss = smaller_model_hist.history['val_loss']"
   ]
  },
  {
   "cell_type": "code",
   "execution_count": 16,
   "metadata": {},
   "outputs": [
    {
     "data": {
      "text/plain": [
       "<Figure size 640x480 with 1 Axes>"
      ]
     },
     "metadata": {},
     "output_type": "display_data"
    }
   ],
   "source": [
    "import matplotlib.pyplot as plt\n",
    "\n",
    "# b+ is for \"blue cross\"\n",
    "plt.plot(epochs, original_val_loss, 'b+', label='Original model')\n",
    "# \"bo\" is for \"blue dot\"\n",
    "plt.plot(epochs, smaller_model_val_loss, 'bo', label='Smaller model')\n",
    "plt.xlabel('Epochs')\n",
    "plt.ylabel('Validation loss')\n",
    "plt.legend()\n",
    "\n",
    "plt.show()"
   ]
  },
  {
   "cell_type": "markdown",
   "metadata": {},
   "source": [
    "\n",
    "As you can see, the smaller network starts overfitting later than the reference one (after 6 epochs rather than 4) and its performance \n",
    "degrades much more slowly once it starts overfitting.\n",
    "\n",
    "Now, for kicks, let's add to this benchmark a network that has much more capacity, far more than the problem would warrant:"
   ]
  },
  {
   "cell_type": "code",
   "execution_count": 13,
   "metadata": {},
   "outputs": [],
   "source": [
    "bigger_model = models.Sequential()\n",
    "bigger_model.add(layers.Dense(512, activation='relu', input_shape=(10000,)))\n",
    "bigger_model.add(layers.Dense(512, activation='relu'))\n",
    "bigger_model.add(layers.Dense(1, activation='sigmoid'))\n",
    "\n",
    "bigger_model.compile(optimizer='rmsprop',\n",
    "                     loss='binary_crossentropy',\n",
    "                     metrics=['acc'])"
   ]
  },
  {
   "cell_type": "code",
   "execution_count": 14,
   "metadata": {},
   "outputs": [
    {
     "name": "stdout",
     "output_type": "stream",
     "text": [
      "Train on 25000 samples, validate on 25000 samples\n",
      "Epoch 1/20\n",
      "25000/25000 [==============================] - 12s 483us/sample - loss: 0.4706 - acc: 0.7912 - val_loss: 0.3581 - val_acc: 0.8437\n",
      "Epoch 2/20\n",
      "25000/25000 [==============================] - 11s 447us/sample - loss: 0.2263 - acc: 0.9094 - val_loss: 0.2701 - val_acc: 0.8882\n",
      "Epoch 3/20\n",
      "25000/25000 [==============================] - 11s 442us/sample - loss: 0.1316 - acc: 0.9509 - val_loss: 0.3416 - val_acc: 0.8789\n",
      "Epoch 4/20\n",
      "25000/25000 [==============================] - 11s 434us/sample - loss: 0.0557 - acc: 0.9827 - val_loss: 0.4454 - val_acc: 0.8796\n",
      "Epoch 5/20\n",
      "25000/25000 [==============================] - 11s 436us/sample - loss: 0.0970 - acc: 0.9858 - val_loss: 0.4734 - val_acc: 0.8815\n",
      "Epoch 6/20\n",
      "25000/25000 [==============================] - 11s 435us/sample - loss: 0.0021 - acc: 0.9997 - val_loss: 0.7190 - val_acc: 0.8779\n",
      "Epoch 7/20\n",
      "25000/25000 [==============================] - 11s 436us/sample - loss: 2.9479e-04 - acc: 1.0000 - val_loss: 0.8690 - val_acc: 0.8781\n",
      "Epoch 8/20\n",
      "25000/25000 [==============================] - 11s 439us/sample - loss: 0.1963 - acc: 0.9878 - val_loss: 0.7308 - val_acc: 0.8745\n",
      "Epoch 9/20\n",
      "25000/25000 [==============================] - 11s 450us/sample - loss: 4.9721e-04 - acc: 1.0000 - val_loss: 0.8103 - val_acc: 0.8714\n",
      "Epoch 10/20\n",
      "25000/25000 [==============================] - 11s 456us/sample - loss: 3.1621e-05 - acc: 1.0000 - val_loss: 0.9914 - val_acc: 0.8708\n",
      "Epoch 11/20\n",
      "25000/25000 [==============================] - 11s 451us/sample - loss: 4.5735e-06 - acc: 1.0000 - val_loss: 1.1238 - val_acc: 0.8776\n",
      "Epoch 12/20\n",
      "25000/25000 [==============================] - 11s 458us/sample - loss: 6.3222e-07 - acc: 1.0000 - val_loss: 1.2803 - val_acc: 0.8778\n",
      "Epoch 13/20\n",
      "25000/25000 [==============================] - 12s 461us/sample - loss: 1.2109e-07 - acc: 1.0000 - val_loss: 1.3935 - val_acc: 0.8781\n",
      "Epoch 14/20\n",
      "25000/25000 [==============================] - 12s 469us/sample - loss: 3.5086e-08 - acc: 1.0000 - val_loss: 1.4737 - val_acc: 0.8780\n",
      "Epoch 15/20\n",
      "25000/25000 [==============================] - 11s 458us/sample - loss: 1.7678e-08 - acc: 1.0000 - val_loss: 1.5163 - val_acc: 0.8780\n",
      "Epoch 16/20\n",
      "25000/25000 [==============================] - 11s 448us/sample - loss: 1.1694e-08 - acc: 1.0000 - val_loss: 1.5433 - val_acc: 0.8781\n",
      "Epoch 17/20\n",
      "25000/25000 [==============================] - 11s 450us/sample - loss: 8.7395e-09 - acc: 1.0000 - val_loss: 1.5643 - val_acc: 0.8775\n",
      "Epoch 18/20\n",
      "25000/25000 [==============================] - 12s 470us/sample - loss: 6.9929e-09 - acc: 1.0000 - val_loss: 1.5804 - val_acc: 0.8778\n",
      "Epoch 19/20\n",
      "25000/25000 [==============================] - 12s 475us/sample - loss: 5.8044e-09 - acc: 1.0000 - val_loss: 1.5941 - val_acc: 0.8780\n",
      "Epoch 20/20\n",
      "25000/25000 [==============================] - 11s 445us/sample - loss: 4.9709e-09 - acc: 1.0000 - val_loss: 1.6057 - val_acc: 0.8778\n"
     ]
    }
   ],
   "source": [
    "bigger_model_hist = bigger_model.fit(x_train, y_train,\n",
    "                                     epochs=20,\n",
    "                                     batch_size=512,\n",
    "                                     validation_data=(x_test, y_test))"
   ]
  },
  {
   "cell_type": "markdown",
   "metadata": {},
   "source": [
    "Here's how the bigger network fares compared to the reference one. The dots are the validation loss values of the bigger network, and the \n",
    "crosses are the initial network."
   ]
  },
  {
   "cell_type": "code",
   "execution_count": 17,
   "metadata": {},
   "outputs": [
    {
     "data": {
      "image/png": "[encoded data removed]",
      "text/plain": [
       "<Figure size 432x288 with 1 Axes>"
      ]
     },
     "metadata": {
      "needs_background": "light"
     },
     "output_type": "display_data"
    }
   ],
   "source": [
    "bigger_model_val_loss = bigger_model_hist.history['val_loss']\n",
    "\n",
    "plt.plot(epochs, original_val_loss, 'b+', label='Original model')\n",
    "plt.plot(epochs, bigger_model_val_loss, 'bo', label='Bigger model')\n",
    "plt.xlabel('Epochs')\n",
    "plt.ylabel('Validation loss')\n",
    "plt.legend()\n",
    "\n",
    "plt.show()"
   ]
  },
  {
   "cell_type": "markdown",
   "metadata": {},
   "source": [
    "\n",
    "The bigger network starts overfitting almost right away, after just one epoch, and overfits much more severely. Its validation loss is also \n",
    "more noisy.\n",
    "\n",
    "Meanwhile, here are the training losses for our two networks:"
   ]
  },
  {
   "cell_type": "code",
   "execution_count": 18,
   "metadata": {},
   "outputs": [
    {
     "data": {
      "image/png": "[encoded data removed]",
      "text/plain": [
       "<Figure size 432x288 with 1 Axes>"
      ]
     },
     "metadata": {
      "needs_background": "light"
     },
     "output_type": "display_data"
    }
   ],
   "source": [
    "original_train_loss = original_hist.history['loss']\n",
    "bigger_model_train_loss = bigger_model_hist.history['loss']\n",
    "\n",
    "plt.plot(epochs, original_train_loss, 'b+', label='Original model')\n",
    "plt.plot(epochs, bigger_model_train_loss, 'bo', label='Bigger model')\n",
    "plt.xlabel('Epochs')\n",
    "plt.ylabel('Training loss')\n",
    "plt.legend()\n",
    "\n",
    "plt.show()"
   ]
  },
  {
   "cell_type": "markdown",
   "metadata": {},
   "source": [
    "As you can see, the bigger network gets its training loss near zero very quickly. The more capacity the network has, the quicker it will be \n",
    "able to model the training data (resulting in a low training loss), but the more susceptible it is to overfitting (resulting in a large \n",
    "difference between the training and validation loss)."
   ]
  },
  {
   "cell_type": "markdown",
   "metadata": {},
   "source": [
    "## Adding weight regularization\n",
    "\n",
    "\n",
    "You may be familiar with _Occam's Razor_ principle: given two explanations for something, the explanation most likely to be correct is the \n",
    "\"simplest\" one, the one that makes the least amount of assumptions. This also applies to the models learned by neural networks: given some \n",
    "training data and a network architecture, there are multiple sets of weights values (multiple _models_) that could explain the data, and \n",
    "simpler models are less likely to overfit than complex ones.\n",
    "\n",
    "A \"simple model\" in this context is a model where the distribution of parameter values has less entropy (or a model with fewer \n",
    "parameters altogether, as we saw in the section above). Thus a common way to mitigate overfitting is to put constraints on the complexity \n",
    "of a network by forcing its weights to only take small values, which makes the distribution of weight values more \"regular\". This is called \n",
    "\"weight regularization\", and it is done by adding to the loss function of the network a _cost_ associated with having large weights. This \n",
    "cost comes in two flavors:\n",
    "\n",
    "* L1 regularization, where the cost added is proportional to the _absolute value of the weights coefficients_ (i.e. to what is called the \n",
    "\"L1 norm\" of the weights).\n",
    "* L2 regularization, where the cost added is proportional to the _square of the value of the weights coefficients_ (i.e. to what is called \n",
    "the \"L2 norm\" of the weights). L2 regularization is also called _weight decay_ in the context of neural networks. Don't let the different \n",
    "name confuse you: weight decay is mathematically the exact same as L2 regularization.\n",
    "\n",
    "In Keras, weight regularization is added by passing _weight regularizer instances_ to layers as keyword arguments. Let's add L2 weight \n",
    "regularization to our movie review classification network:"
   ]
  },
  {
   "cell_type": "code",
   "execution_count": 29,
   "metadata": {},
   "outputs": [],
   "source": [
    "from tensorflow.keras import regularizers\n",
    "\n",
    "l2_model = models.Sequential()\n",
    "l2_model.add(layers.Dense(16, kernel_regularizer=regularizers.l2(0.001),\n",
    "                          activation='relu', input_shape=(10000,)))\n",
    "l2_model.add(layers.Dense(16, kernel_regularizer=regularizers.l2(0.001),\n",
    "                          activation='relu'))\n",
    "l2_model.add(layers.Dense(1, activation='sigmoid'))"
   ]
  },
  {
   "cell_type": "code",
   "execution_count": 30,
   "metadata": {},
   "outputs": [],
   "source": [
    "l2_model.compile(optimizer='rmsprop',\n",
    "                 loss='binary_crossentropy',\n",
    "                 metrics=['acc'])"
   ]
  },
  {
   "cell_type": "markdown",
   "metadata": {},
   "source": [
    "`l2(0.001)` means that every coefficient in the weight matrix of the layer will add `0.001 * weight_coefficient_value` to the total loss of \n",
    "the network. Note that because this penalty is _only added at training time_, the loss for this network will be much higher at training \n",
    "than at test time.\n",
    "\n",
    "Here's the impact of our L2 regularization penalty:"
   ]
  },
  {
   "cell_type": "code",
   "execution_count": 31,
   "metadata": {},
   "outputs": [
    {
     "name": "stdout",
     "output_type": "stream",
     "text": [
      "Train on 25000 samples, validate on 25000 samples\n",
      "Epoch 1/20\n",
      "25000/25000 [==============================] - 9s 365us/sample - loss: 0.4751 - acc: 0.8308 - val_loss: 0.3659 - val_acc: 0.8842\n",
      "Epoch 2/20\n",
      "25000/25000 [==============================] - 6s 240us/sample - loss: 0.3037 - acc: 0.9092 - val_loss: 0.3283 - val_acc: 0.8895\n",
      "Epoch 3/20\n",
      "25000/25000 [==============================] - 5s 184us/sample - loss: 0.2625 - acc: 0.9219 - val_loss: 0.3345 - val_acc: 0.8854\n",
      "Epoch 4/20\n",
      "25000/25000 [==============================] - 5s 193us/sample - loss: 0.2425 - acc: 0.9291 - val_loss: 0.3334 - val_acc: 0.8872\n",
      "Epoch 5/20\n",
      "25000/25000 [==============================] - 5s 214us/sample - loss: 0.2304 - acc: 0.9346 - val_loss: 0.3444 - val_acc: 0.8812\n",
      "Epoch 6/20\n",
      "25000/25000 [==============================] - 5s 215us/sample - loss: 0.2225 - acc: 0.9382 - val_loss: 0.3677 - val_acc: 0.8760\n",
      "Epoch 7/20\n",
      "25000/25000 [==============================] - 5s 195us/sample - loss: 0.2182 - acc: 0.9410 - val_loss: 0.3595 - val_acc: 0.8786\n",
      "Epoch 8/20\n",
      "25000/25000 [==============================] - 6s 234us/sample - loss: 0.2120 - acc: 0.9430 - val_loss: 0.3679 - val_acc: 0.8782\n",
      "Epoch 9/20\n",
      "25000/25000 [==============================] - 6s 224us/sample - loss: 0.2066 - acc: 0.9449 - val_loss: 0.4042 - val_acc: 0.8656\n",
      "Epoch 10/20\n",
      "25000/25000 [==============================] - 5s 191us/sample - loss: 0.2011 - acc: 0.9476 - val_loss: 0.4072 - val_acc: 0.8678\n",
      "Epoch 11/20\n",
      "25000/25000 [==============================] - 5s 185us/sample - loss: 0.1983 - acc: 0.9492 - val_loss: 0.3913 - val_acc: 0.8705\n",
      "Epoch 12/20\n",
      "25000/25000 [==============================] - 5s 194us/sample - loss: 0.1925 - acc: 0.9515 - val_loss: 0.4037 - val_acc: 0.8696\n",
      "Epoch 13/20\n",
      "25000/25000 [==============================] - 5s 196us/sample - loss: 0.1925 - acc: 0.9523 - val_loss: 0.4137 - val_acc: 0.8702\n",
      "Epoch 14/20\n",
      "25000/25000 [==============================] - 5s 192us/sample - loss: 0.1841 - acc: 0.9539 - val_loss: 0.3994 - val_acc: 0.8721\n",
      "Epoch 15/20\n",
      "25000/25000 [==============================] - 5s 191us/sample - loss: 0.1833 - acc: 0.9558 - val_loss: 0.4363 - val_acc: 0.8613\n",
      "Epoch 16/20\n",
      "25000/25000 [==============================] - 5s 191us/sample - loss: 0.1812 - acc: 0.9562 - val_loss: 0.4486 - val_acc: 0.8642\n",
      "Epoch 17/20\n",
      "25000/25000 [==============================] - 5s 200us/sample - loss: 0.1780 - acc: 0.9570 - val_loss: 0.4411 - val_acc: 0.8658\n",
      "Epoch 18/20\n",
      "25000/25000 [==============================] - 5s 205us/sample - loss: 0.1708 - acc: 0.9604 - val_loss: 0.4601 - val_acc: 0.8632\n",
      "Epoch 19/20\n",
      "25000/25000 [==============================] - 5s 196us/sample - loss: 0.1725 - acc: 0.9598 - val_loss: 0.4219 - val_acc: 0.8704\n",
      "Epoch 20/20\n",
      "25000/25000 [==============================] - 5s 196us/sample - loss: 0.1683 - acc: 0.9605 - val_loss: 0.4277 - val_acc: 0.8693\n"
     ]
    }
   ],
   "source": [
    "l2_model_hist = l2_model.fit(x_train, y_train,\n",
    "                             epochs=20,\n",
    "                             batch_size=512,\n",
    "                             validation_data=(x_test, y_test))"
   ]
  },
  {
   "cell_type": "code",
   "execution_count": 32,
   "metadata": {},
   "outputs": [
    {
     "data": {
      "image/png": "[encoded data removed]",
      "text/plain": [
       "<Figure size 432x288 with 1 Axes>"
      ]
     },
     "metadata": {
      "needs_background": "light"
     },
     "output_type": "display_data"
    }
   ],
   "source": [
    "l2_model_val_loss = l2_model_hist.history['val_loss']\n",
    "\n",
    "plt.plot(epochs, original_val_loss, 'b+', label='Original model')\n",
    "plt.plot(epochs, l2_model_val_loss, 'bo', label='L2-regularized model')\n",
    "plt.xlabel('Epochs')\n",
    "plt.ylabel('Validation loss')\n",
    "plt.legend()\n",
    "\n",
    "plt.show()"
   ]
  },
  {
   "cell_type": "markdown",
   "metadata": {},
   "source": [
    "\n",
    "\n",
    "As you can see, the model with L2 regularization (dots) has become much more resistant to overfitting than the reference model (crosses), \n",
    "even though both models have the same number of parameters.\n",
    "\n",
    "As alternatives to L2 regularization, you could use one of the following Keras weight regularizers:"
   ]
  },
  {
   "cell_type": "code",
   "execution_count": null,
   "metadata": {
    "collapsed": true
   },
   "outputs": [],
   "source": [
    "from tensorflow.keras import regularizers\n",
    "\n",
    "# L1 regularization\n",
    "regularizers.l1(0.001)\n",
    "\n",
    "# L1 and L2 regularization at the same time\n",
    "regularizers.l1_l2(l1=0.001, l2=0.001)"
   ]
  },
  {
   "cell_type": "markdown",
   "metadata": {},
   "source": [
    "## Adding dropout\n",
    "\n",
    "\n",
    "Dropout is one of the most effective and most commonly used regularization techniques for neural networks, developed by Hinton and his \n",
    "students at the University of Toronto. Dropout, applied to a layer, consists of randomly \"dropping out\" (i.e. setting to zero) a number of \n",
    "output features of the layer during training. Let's say a given layer would normally have returned a vector `[0.2, 0.5, 1.3, 0.8, 1.1]` for a \n",
    "given input sample during training; after applying dropout, this vector will have a few zero entries distributed at random, e.g. `[0, 0.5, \n",
    "1.3, 0, 1.1]`. The \"dropout rate\" is the fraction of the features that are being zeroed-out; it is usually set between 0.2 and 0.5. At test \n",
    "time, no units are dropped out, and instead the layer's output values are scaled down by a factor equal to the dropout rate, so as to \n",
    "balance for the fact that more units are active than at training time.\n",
    "\n",
    "Consider a Numpy matrix containing the output of a layer, `layer_output`, of shape `(batch_size, features)`. At training time, we would be \n",
    "zero-ing out at random a fraction of the values in the matrix:"
   ]
  },
  {
   "cell_type": "code",
   "execution_count": null,
   "metadata": {
    "collapsed": true
   },
   "outputs": [],
   "source": [
    "# At training time: we drop out 50% of the units in the output\n",
    "layer_output *= np.randint(0, high=2, size=layer_output.shape)"
   ]
  },
  {
   "cell_type": "markdown",
   "metadata": {},
   "source": [
    "\n",
    "At test time, we would be scaling the output down by the dropout rate. Here we scale by 0.5 (because we were previous dropping half the \n",
    "units):"
   ]
  },
  {
   "cell_type": "code",
   "execution_count": null,
   "metadata": {
    "collapsed": true
   },
   "outputs": [],
   "source": [
    "# At test time:\n",
    "layer_output *= 0.5"
   ]
  },
  {
   "cell_type": "markdown",
   "metadata": {},
   "source": [
    "\n",
    "Note that this process can be implemented by doing both operations at training time and leaving the output unchanged at test time, which is \n",
    "often the way it is implemented in practice:"
   ]
  },
  {
   "cell_type": "code",
   "execution_count": null,
   "metadata": {
    "collapsed": true
   },
   "outputs": [],
   "source": [
    "# At training time:\n",
    "layer_output *= np.randint(0, high=2, size=layer_output.shape)\n",
    "# Note that we are scaling *up* rather scaling *down* in this case\n",
    "layer_output /= 0.5"
   ]
  },
  {
   "cell_type": "markdown",
   "metadata": {},
   "source": [
    "\n",
    "This technique may seem strange and arbitrary. Why would this help reduce overfitting? Geoff Hinton has said that he was inspired, among \n",
    "other things, by a fraud prevention mechanism used by banks -- in his own words: _\"I went to my bank. The tellers kept changing and I asked \n",
    "one of them why. He said he didn’t know but they got moved around a lot. I figured it must be because it would require cooperation \n",
    "between employees to successfully defraud the bank. This made me realize that randomly removing a different subset of neurons on each \n",
    "example would prevent conspiracies and thus reduce overfitting\"_.\n",
    "\n",
    "The core idea is that introducing noise in the output values of a layer can break up happenstance patterns that are not significant (what \n",
    "Hinton refers to as \"conspiracies\"), which the network would start memorizing if no noise was present. \n",
    "\n",
    "In Keras you can introduce dropout in a network via the `Dropout` layer, which gets applied to the output of layer right before it, e.g.:"
   ]
  },
  {
   "cell_type": "code",
   "execution_count": null,
   "metadata": {
    "collapsed": true
   },
   "outputs": [],
   "source": [
    "model.add(layers.Dropout(0.5))"
   ]
  },
  {
   "cell_type": "markdown",
   "metadata": {},
   "source": [
    "Let's add two `Dropout` layers in our IMDB network to see how well they do at reducing overfitting:"
   ]
  },
  {
   "cell_type": "code",
   "execution_count": 22,
   "metadata": {
    "collapsed": true
   },
   "outputs": [],
   "source": [
    "dpt_model = models.Sequential()\n",
    "dpt_model.add(layers.Dense(16, activation='relu', input_shape=(10000,)))\n",
    "dpt_model.add(layers.Dropout(0.5))\n",
    "dpt_model.add(layers.Dense(16, activation='relu'))\n",
    "dpt_model.add(layers.Dropout(0.5))\n",
    "dpt_model.add(layers.Dense(1, activation='sigmoid'))\n",
    "\n",
    "dpt_model.compile(optimizer='rmsprop',\n",
    "                  loss='binary_crossentropy',\n",
    "                  metrics=['acc'])"
   ]
  },
  {
   "cell_type": "code",
   "execution_count": 23,
   "metadata": {},
   "outputs": [
    {
     "name": "stdout",
     "output_type": "stream",
     "text": [
      "Train on 25000 samples, validate on 25000 samples\n",
      "Epoch 1/20\n",
      "25000/25000 [==============================] - 3s - loss: 0.6035 - acc: 0.6678 - val_loss: 0.4704 - val_acc: 0.8651\n",
      "Epoch 2/20\n",
      "25000/25000 [==============================] - 2s - loss: 0.4622 - acc: 0.8002 - val_loss: 0.3612 - val_acc: 0.8724\n",
      "Epoch 3/20\n",
      "25000/25000 [==============================] - 2s - loss: 0.3731 - acc: 0.8553 - val_loss: 0.2960 - val_acc: 0.8904\n",
      "Epoch 4/20\n",
      "25000/25000 [==============================] - 2s - loss: 0.3162 - acc: 0.8855 - val_loss: 0.2772 - val_acc: 0.8917\n",
      "Epoch 5/20\n",
      "25000/25000 [==============================] - 2s - loss: 0.2762 - acc: 0.9033 - val_loss: 0.2803 - val_acc: 0.8889\n",
      "Epoch 6/20\n",
      "25000/25000 [==============================] - 2s - loss: 0.2454 - acc: 0.9172 - val_loss: 0.2823 - val_acc: 0.8892\n",
      "Epoch 7/20\n",
      "25000/25000 [==============================] - 2s - loss: 0.2178 - acc: 0.9281 - val_loss: 0.2982 - val_acc: 0.8877\n",
      "Epoch 8/20\n",
      "25000/25000 [==============================] - 2s - loss: 0.1994 - acc: 0.9351 - val_loss: 0.3101 - val_acc: 0.8875\n",
      "Epoch 9/20\n",
      "25000/25000 [==============================] - 2s - loss: 0.1832 - acc: 0.9400 - val_loss: 0.3318 - val_acc: 0.8860\n",
      "Epoch 10/20\n",
      "25000/25000 [==============================] - 2s - loss: 0.1692 - acc: 0.9434 - val_loss: 0.3534 - val_acc: 0.8841\n",
      "Epoch 11/20\n",
      "25000/25000 [==============================] - 2s - loss: 0.1590 - acc: 0.9483 - val_loss: 0.3689 - val_acc: 0.8830\n",
      "Epoch 12/20\n",
      "25000/25000 [==============================] - 2s - loss: 0.1499 - acc: 0.9496 - val_loss: 0.4107 - val_acc: 0.8776\n",
      "Epoch 13/20\n",
      "25000/25000 [==============================] - 2s - loss: 0.1405 - acc: 0.9539 - val_loss: 0.4114 - val_acc: 0.8782\n",
      "Epoch 14/20\n",
      "25000/25000 [==============================] - 2s - loss: 0.1333 - acc: 0.9562 - val_loss: 0.4549 - val_acc: 0.8771\n",
      "Epoch 15/20\n",
      "25000/25000 [==============================] - 2s - loss: 0.1267 - acc: 0.9572 - val_loss: 0.4579 - val_acc: 0.8800\n",
      "Epoch 16/20\n",
      "25000/25000 [==============================] - 2s - loss: 0.1225 - acc: 0.9580 - val_loss: 0.4843 - val_acc: 0.8772\n",
      "Epoch 17/20\n",
      "25000/25000 [==============================] - 2s - loss: 0.1233 - acc: 0.9590 - val_loss: 0.4783 - val_acc: 0.8761\n",
      "Epoch 18/20\n",
      "25000/25000 [==============================] - 2s - loss: 0.1212 - acc: 0.9601 - val_loss: 0.5051 - val_acc: 0.8740\n",
      "Epoch 19/20\n",
      "25000/25000 [==============================] - 2s - loss: 0.1153 - acc: 0.9618 - val_loss: 0.5451 - val_acc: 0.8747\n",
      "Epoch 20/20\n",
      "25000/25000 [==============================] - 2s - loss: 0.1155 - acc: 0.9621 - val_loss: 0.5358 - val_acc: 0.8738\n"
     ]
    }
   ],
   "source": [
    "dpt_model_hist = dpt_model.fit(x_train, y_train,\n",
    "                               epochs=20,\n",
    "                               batch_size=512,\n",
    "                               validation_data=(x_test, y_test))"
   ]
  },
  {
   "cell_type": "markdown",
   "metadata": {},
   "source": [
    "Let's plot the results:"
   ]
  },
  {
   "cell_type": "code",
   "execution_count": 32,
   "metadata": {},
   "outputs": [
    {
     "data": {
      "image/png": "[encoded data removed]",
      "text/plain": [
       "<matplotlib.figure.Figure at 0x7f43baa91dd8>"
      ]
     },
     "metadata": {},
     "output_type": "display_data"
    }
   ],
   "source": [
    "dpt_model_val_loss = dpt_model_hist.history['val_loss']\n",
    "\n",
    "plt.plot(epochs, original_val_loss, 'b+', label='Original model')\n",
    "plt.plot(epochs, dpt_model_val_loss, 'bo', label='Dropout-regularized model')\n",
    "plt.xlabel('Epochs')\n",
    "plt.ylabel('Validation loss')\n",
    "plt.legend()\n",
    "\n",
    "plt.show()"
   ]
  },
  {
   "cell_type": "markdown",
   "metadata": {},
   "source": [
    "\n",
    "Again, a clear improvement over the reference network.\n",
    "\n",
    "To recap: here the most common ways to prevent overfitting in neural networks:\n",
    "\n",
    "* Getting more training data.\n",
    "* Reducing the capacity of the network.\n",
    "* Adding weight regularization.\n",
    "* Adding dropout."
   ]
  }
 ],
 "metadata": {
  "kernelspec": {
   "display_name": "Python 3",
   "language": "python",
   "name": "python3"
  },
  "language_info": {
   "codemirror_mode": {
    "name": "ipython",
    "version": 3
   },
   "file_extension": ".py",
   "mimetype": "text/x-python",
   "name": "python",
   "nbconvert_exporter": "python",
   "pygments_lexer": "ipython3",
   "version": "3.7.2"
  }
 },
 "nbformat": 4,
 "nbformat_minor": 2
}
